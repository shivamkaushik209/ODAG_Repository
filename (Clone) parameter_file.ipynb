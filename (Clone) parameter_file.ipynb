{
 "cells": [
  {
   "cell_type": "markdown",
   "metadata": {
    "application/vnd.databricks.v1+cell": {
     "cellMetadata": {
      "byteLimit": 2048000,
      "rowLimit": 10000
     },
     "inputWidgets": {},
     "nuid": "113afc59-4f60-4960-a32e-a3d003522083",
     "showTitle": false,
     "tableResultSettingsMap": {},
     "title": ""
    }
   },
   "source": [
    "### Bronze Layer"
   ]
  },
  {
   "cell_type": "code",
   "execution_count": 0,
   "metadata": {
    "application/vnd.databricks.v1+cell": {
     "cellMetadata": {
      "byteLimit": 2048000,
      "rowLimit": 10000
     },
     "inputWidgets": {},
     "nuid": "9640bfd6-1ead-419b-9aae-c0bf6c90b9fa",
     "showTitle": false,
     "tableResultSettingsMap": {},
     "title": ""
    }
   },
   "outputs": [],
   "source": [
    "from pyspark.sql.functions import input_file_name, regexp_extract\n",
    "\n",
    "df = spark.read \\\n",
    "    .option(\"header\",True) \\\n",
    "    .csv(\"abfss://parameter-file@databricksdl7.dfs.core.windows.net/cms_audit_odag_process_start.txt\") \\\n",
    "    .withColumn(\"FILE_NAME\",input_file_name())\n",
    "\n",
    "# Extract the file name from the full file path\n",
    "df = df.withColumn(\"FILE_NAME\", regexp_extract(\"FILE_NAME\", r\"([^/]+)$\", 0))"
   ]
  },
  {
   "cell_type": "code",
   "execution_count": 0,
   "metadata": {
    "application/vnd.databricks.v1+cell": {
     "cellMetadata": {
      "byteLimit": 2048000,
      "rowLimit": 10000
     },
     "inputWidgets": {},
     "nuid": "fee74311-5ef9-4084-b682-483eabeb6d76",
     "showTitle": false,
     "tableResultSettingsMap": {},
     "title": ""
    }
   },
   "outputs": [],
   "source": [
    "df.createOrReplaceGlobalTempView(\"status_tracker_gtv\")\n",
    "display(df)"
   ]
  },
  {
   "cell_type": "markdown",
   "metadata": {
    "application/vnd.databricks.v1+cell": {
     "cellMetadata": {
      "byteLimit": 2048000,
      "rowLimit": 10000
     },
     "inputWidgets": {},
     "nuid": "b8782a95-909f-40dd-a9e0-ee5dd622dc1f",
     "showTitle": false,
     "tableResultSettingsMap": {},
     "title": ""
    }
   },
   "source": [
    "### Gold Layer"
   ]
  },
  {
   "cell_type": "code",
   "execution_count": 0,
   "metadata": {
    "application/vnd.databricks.v1+cell": {
     "cellMetadata": {
      "byteLimit": 2048000,
      "implicitDf": true,
      "rowLimit": 10000
     },
     "inputWidgets": {},
     "nuid": "36f25052-3387-4c33-a348-5a3f387c17ef",
     "showTitle": false,
     "tableResultSettingsMap": {},
     "title": ""
    }
   },
   "outputs": [],
   "source": [
    "%sql\n",
    "--DROP TABLE odag.gold.CMS_AUDIT_APP_STATUS_TRACKER;"
   ]
  },
  {
   "cell_type": "code",
   "execution_count": 0,
   "metadata": {
    "application/vnd.databricks.v1+cell": {
     "cellMetadata": {
      "byteLimit": 2048000,
      "implicitDf": true,
      "rowLimit": 10000
     },
     "inputWidgets": {},
     "nuid": "46ddaf7b-69a5-40e5-ba11-a16e101ed6c7",
     "showTitle": false,
     "tableResultSettingsMap": {},
     "title": ""
    }
   },
   "outputs": [],
   "source": [
    "%sql\n",
    "CREATE TABLE IF NOT EXISTS odag.gold.CMS_AUDIT_APP_STATUS_TRACKER\n",
    "(\n",
    "REQUEST_ID STRING,\n",
    "PROTOCOL_YEAR STRING,\n",
    "UNIVERSE_NUMBER STRING,\n",
    "COMMENTS STRING,\n",
    "LAST_UPDATED STRING  \n",
    ");"
   ]
  },
  {
   "cell_type": "code",
   "execution_count": 0,
   "metadata": {
    "application/vnd.databricks.v1+cell": {
     "cellMetadata": {
      "byteLimit": 2048000,
      "implicitDf": true,
      "rowLimit": 10000
     },
     "inputWidgets": {},
     "nuid": "1b9e1c32-3e29-4c3e-b605-5bc4836c14a0",
     "showTitle": false,
     "tableResultSettingsMap": {},
     "title": ""
    }
   },
   "outputs": [],
   "source": [
    "%sql\n",
    "INSERT INTO odag.gold.CMS_AUDIT_APP_STATUS_TRACKER\n",
    "(REQUEST_ID, PROTOCOL_YEAR, UNIVERSE_NUMBER, COMMENTS, LAST_UPDATED)\n",
    "SELECT \n",
    "REQUEST_ID,\n",
    "PROTOCOL_YEAR,\n",
    "UNIVERSE_NUMBER,\n",
    "\"Job is in progress\" AS COMMENTS,\n",
    "date_format(current_timestamp(), 'MM/dd/yyyy h:mm:ss a') AS LAST_UPDATED  -- Store formatted timestamp as string\n",
    "FROM global_temp.status_tracker_gtv;"
   ]
  },
  {
   "cell_type": "code",
   "execution_count": 0,
   "metadata": {
    "application/vnd.databricks.v1+cell": {
     "cellMetadata": {
      "byteLimit": 2048000,
      "implicitDf": true,
      "rowLimit": 10000
     },
     "inputWidgets": {},
     "nuid": "d702b2d7-66be-48a4-bc2b-810b557645ed",
     "showTitle": false,
     "tableResultSettingsMap": {},
     "title": ""
    }
   },
   "outputs": [],
   "source": [
    "%sql\n",
    "SELECT * FROM odag.gold.CMS_AUDIT_APP_STATUS_TRACKER;"
   ]
  }
 ],
 "metadata": {
  "application/vnd.databricks.v1+notebook": {
   "computePreferences": null,
   "dashboards": [],
   "environmentMetadata": {
    "base_environment": "",
    "environment_version": "2"
   },
   "language": "python",
   "notebookMetadata": {
    "mostRecentlyExecutedCommandWithImplicitDF": {
     "commandId": 5961406649325009,
     "dataframes": [
      "_sqldf"
     ]
    },
    "pythonIndentUnit": 4
   },
   "notebookName": "(Clone) parameter_file",
   "widgets": {}
  },
  "language_info": {
   "name": "python"
  }
 },
 "nbformat": 4,
 "nbformat_minor": 0
}
