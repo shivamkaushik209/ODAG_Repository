{
 "cells": [
  {
   "cell_type": "code",
   "execution_count": 0,
   "metadata": {
    "application/vnd.databricks.v1+cell": {
     "cellMetadata": {
      "byteLimit": 2048000,
      "implicitDf": true,
      "rowLimit": 10000
     },
     "inputWidgets": {},
     "nuid": "a48997a9-4424-4833-9e77-49c607bb6c04",
     "showTitle": false,
     "tableResultSettingsMap": {},
     "title": ""
    }
   },
   "outputs": [],
   "source": [
    "%sql\n",
    "CREATE TABLE IF NOT EXISTS odag.gold.ODAG_FINAL_TABLE\n",
    "(\n",
    "SOURCE_NAME VARCHAR(25),\n",
    "REQUEST_ID INT,\n",
    "FIRST_NAME VARCHAR(50),\n",
    "LAST_NAME VARCHAR(50),\n",
    "CONTRACT_ID VARCHAR(5),\n",
    "DATE_FORWARDED_TO_IRE VARCHAR(10),\n",
    "CHG_TIMESTAMP STRING,\n",
    "REQID_UNIV_SUBPART_KEY VARCHAR(40)\n",
    ")\n"
   ]
  },
  {
   "cell_type": "code",
   "execution_count": 0,
   "metadata": {
    "application/vnd.databricks.v1+cell": {
     "cellMetadata": {
      "byteLimit": 2048000,
      "rowLimit": 10000
     },
     "inputWidgets": {},
     "nuid": "c85afbb2-0ca6-47dc-920a-ea7b73ebd877",
     "showTitle": false,
     "tableResultSettingsMap": {},
     "title": ""
    }
   },
   "outputs": [],
   "source": [
    "request_id = spark.sql(\"SELECT Request_ID FROM global_temp.status_tracker_gtv\")\n",
    "request_id_value = request_id.collect()[0]['Request_ID']"
   ]
  },
  {
   "cell_type": "code",
   "execution_count": 0,
   "metadata": {
    "application/vnd.databricks.v1+cell": {
     "cellMetadata": {
      "byteLimit": 2048000,
      "implicitDf": true,
      "rowLimit": 10000
     },
     "inputWidgets": {},
     "nuid": "b6aad353-8eff-481b-bdec-598731ef7a52",
     "showTitle": false,
     "tableResultSettingsMap": {},
     "title": ""
    }
   },
   "outputs": [],
   "source": [
    "%sql truncate table odag.gold.ODAG_FINAL_TABLE"
   ]
  },
  {
   "cell_type": "code",
   "execution_count": 0,
   "metadata": {
    "application/vnd.databricks.v1+cell": {
     "cellMetadata": {
      "byteLimit": 2048000,
      "implicitDf": true,
      "rowLimit": 10000
     },
     "inputWidgets": {},
     "nuid": "1ad4f983-0e6b-4488-b8f6-8c56d03fa369",
     "showTitle": false,
     "tableResultSettingsMap": {},
     "title": ""
    }
   },
   "outputs": [],
   "source": [
    "%python\n",
    "sql_query = spark.sql(f\"\"\"\n",
    "INSERT INTO odag.gold.ODAG_FINAL_TABLE\n",
    "SELECT \n",
    "    CASE WHEN SOURCE_INDICATOR IS NULL OR trim(SOURCE_INDICATOR) = '' \n",
    "            THEN 'NA' \n",
    "        ELSE \n",
    "            SUBSTR(SOURCE_INDICATOR,1,25) \n",
    "    END AS `SOURCE_NAME`,\n",
    "    {request_id_value} AS `REQUEST_ID`,\n",
    "    CASE WHEN FIRST_NAME IS NULL OR trim(FIRST_NAME) = '' \n",
    "            THEN 'NA' \n",
    "        ELSE \n",
    "            SUBSTR(FIRST_NAME,1,50) \n",
    "    END AS `FIRST_NAME`,\n",
    "    CASE WHEN LAST_NAME IS NULL OR trim(LAST_NAME) = '' \n",
    "            THEN 'NA' \n",
    "        ELSE \n",
    "            SUBSTR(LAST_NAME,1,50) \n",
    "    END AS `LAST_NAME`,\n",
    "    CASE WHEN CONTRACT_ID IS NULL OR trim(CONTRACT_ID) = '' \n",
    "            THEN 'NA' \n",
    "        ELSE \n",
    "            SUBSTR(CONTRACT_ID,1,5) \n",
    "    END AS `CONTRACT_ID`,\n",
    "    CASE WHEN DATE_FORWARDED_TO_IRE IS NULL OR trim(DATE_FORWARDED_TO_IRE) = '' \n",
    "            THEN 'NA' \n",
    "        ELSE \n",
    "            SUBSTR(DATE_FORWARDED_TO_IRE,1,10) \n",
    "    END AS `DATE_FORWARDED_TO_IRE`,\n",
    "    date_format(current_timestamp(), 'MM/dd/yyyy h:mm:ss a') AS `CHG_TIMESTAMP`,\n",
    "    SUBSTR(CONCAT('{request_id_value}', '_M_', date_format(current_timestamp(), 'yyyyMMddHHmmss')),1,40) AS `REQID_UNIV_SUBPART_KEY`\n",
    "FROM odag.bronze.CMS_AUDIT_INPUT_STG\n",
    "\"\"\")"
   ]
  },
  {
   "cell_type": "code",
   "execution_count": 0,
   "metadata": {
    "application/vnd.databricks.v1+cell": {
     "cellMetadata": {
      "byteLimit": 2048000,
      "implicitDf": true,
      "rowLimit": 10000
     },
     "inputWidgets": {},
     "nuid": "0828a69a-148a-479f-a983-7288a177f929",
     "showTitle": false,
     "tableResultSettingsMap": {},
     "title": ""
    }
   },
   "outputs": [],
   "source": [
    "%sql\n",
    "SELECT * FROM odag.gold.ODAG_FINAL_TABLE"
   ]
  }
 ],
 "metadata": {
  "application/vnd.databricks.v1+notebook": {
   "computePreferences": null,
   "dashboards": [],
   "environmentMetadata": {
    "base_environment": "",
    "environment_version": "2"
   },
   "language": "python",
   "notebookMetadata": {
    "mostRecentlyExecutedCommandWithImplicitDF": {
     "commandId": 7487827556399017,
     "dataframes": [
      "_sqldf"
     ]
    },
    "pythonIndentUnit": 4
   },
   "notebookName": "Final Table",
   "widgets": {}
  },
  "language_info": {
   "name": "python"
  }
 },
 "nbformat": 4,
 "nbformat_minor": 0
}
