{
 "cells": [
  {
   "cell_type": "code",
   "execution_count": 0,
   "metadata": {
    "application/vnd.databricks.v1+cell": {
     "cellMetadata": {
      "byteLimit": 2048000,
      "rowLimit": 10000
     },
     "inputWidgets": {},
     "nuid": "6d98bf10-1650-4da9-ad9e-51bd41148c30",
     "showTitle": false,
     "tableResultSettingsMap": {},
     "title": ""
    }
   },
   "outputs": [],
   "source": [
    "df_input = spark.read \\\n",
    ".option(\"header\",True) \\\n",
    ".option(\"delimiter\", \"\\t\") \\\n",
    ".csv('abfss://input-file@databricksdl7.dfs.core.windows.net/odag_input_file.txt')\n",
    "\n",
    "#display(df)"
   ]
  },
  {
   "cell_type": "code",
   "execution_count": 0,
   "metadata": {
    "application/vnd.databricks.v1+cell": {
     "cellMetadata": {
      "byteLimit": 2048000,
      "rowLimit": 10000
     },
     "inputWidgets": {},
     "nuid": "ce3257a1-47a1-4c6d-95bb-192966d573d9",
     "showTitle": false,
     "tableResultSettingsMap": {},
     "title": ""
    }
   },
   "outputs": [],
   "source": [
    "request_id = spark.sql(\"SELECT Request_ID FROM global_temp.status_tracker_gtv\")\n",
    "request_id_value = request_id.collect()[0]['Request_ID']"
   ]
  },
  {
   "cell_type": "code",
   "execution_count": 0,
   "metadata": {
    "application/vnd.databricks.v1+cell": {
     "cellMetadata": {
      "byteLimit": 2048000,
      "rowLimit": 10000
     },
     "inputWidgets": {},
     "nuid": "7f6fa7dc-71b7-4bd8-a4d0-18cabdb48134",
     "showTitle": false,
     "tableResultSettingsMap": {},
     "title": ""
    }
   },
   "outputs": [],
   "source": [
    "from pyspark.sql.functions import lit\n",
    "\n",
    "df_input_renamed = df_input.withColumn(\"REQUEST_ID\", lit(request_id_value)) \\\n",
    "                   .withColumnRenamed(\"Enrollee First Name\", \"FIRST_NAME\") \\\n",
    "                   .withColumnRenamed(\"Enrollee Last Name\", \"LAST_NAME\") \\\n",
    "                   .withColumnRenamed(\"Contract ID\", \"CONTRACT_ID\") \\\n",
    "                   .withColumnRenamed(\"Date Forwarded To IRE\", \"DATE_FORWARDED_TO_IRE\") \\\n",
    "                   .withColumnRenamed(\"Source Indicator\", \"SOURCE_INDICATOR\")\n",
    "\n",
    "display(df_input_renamed)"
   ]
  },
  {
   "cell_type": "code",
   "execution_count": 0,
   "metadata": {
    "application/vnd.databricks.v1+cell": {
     "cellMetadata": {
      "byteLimit": 2048000,
      "rowLimit": 10000
     },
     "inputWidgets": {},
     "nuid": "656d539d-8906-4c0d-b6ad-5af790dec895",
     "showTitle": false,
     "tableResultSettingsMap": {},
     "title": ""
    }
   },
   "outputs": [],
   "source": [
    "df_input_renamed.write.mode(\"overwrite\").saveAsTable(\"odag.bronze.CMS_AUDIT_INPUT_STG\")"
   ]
  }
 ],
 "metadata": {
  "application/vnd.databricks.v1+notebook": {
   "computePreferences": null,
   "dashboards": [],
   "environmentMetadata": {
    "base_environment": "",
    "environment_version": "2"
   },
   "language": "python",
   "notebookMetadata": {
    "mostRecentlyExecutedCommandWithImplicitDF": {
     "commandId": 8482998540092012,
     "dataframes": [
      "_sqldf"
     ]
    },
    "pythonIndentUnit": 4
   },
   "notebookName": "stg table creation",
   "widgets": {}
  },
  "language_info": {
   "name": "python"
  }
 },
 "nbformat": 4,
 "nbformat_minor": 0
}
