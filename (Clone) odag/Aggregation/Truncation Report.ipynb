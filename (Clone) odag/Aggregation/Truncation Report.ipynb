{
 "cells": [
  {
   "cell_type": "code",
   "execution_count": 0,
   "metadata": {
    "application/vnd.databricks.v1+cell": {
     "cellMetadata": {
      "byteLimit": 2048000,
      "implicitDf": true,
      "rowLimit": 10000
     },
     "inputWidgets": {},
     "nuid": "5d221d9d-4cf8-4b9d-b4cd-e1a11e12a736",
     "showTitle": false,
     "tableResultSettingsMap": {},
     "title": ""
    }
   },
   "outputs": [],
   "source": [
    "%sql\n",
    "SELECT * FROM odag.bronze.CMS_AUDIT_INPUT_STG;"
   ]
  },
  {
   "cell_type": "code",
   "execution_count": 0,
   "metadata": {
    "application/vnd.databricks.v1+cell": {
     "cellMetadata": {
      "byteLimit": 2048000,
      "rowLimit": 10000
     },
     "inputWidgets": {},
     "nuid": "f44a0475-17f8-47c3-9e7f-4f3e61b777f4",
     "showTitle": false,
     "tableResultSettingsMap": {},
     "title": ""
    }
   },
   "outputs": [],
   "source": [
    "file_name = spark.sql(\"SELECT FILE_NAME FROM global_temp.status_tracker_gtv\")\n",
    "file_name_value = file_name.collect()[0]['FILE_NAME']\n",
    "\n",
    "print(file_name_value)"
   ]
  },
  {
   "cell_type": "code",
   "execution_count": 0,
   "metadata": {
    "application/vnd.databricks.v1+cell": {
     "cellMetadata": {
      "byteLimit": 2048000,
      "implicitDf": true,
      "rowLimit": 10000
     },
     "inputWidgets": {},
     "nuid": "003f0d0e-c581-4835-b576-22f142249c18",
     "showTitle": false,
     "tableResultSettingsMap": {},
     "title": ""
    }
   },
   "outputs": [],
   "source": [
    "trunc_report = spark.sql(f\"\"\"\n",
    "SELECT\n",
    "FIRST_NAME AS `Enrollee First Name -- Actual Length(50)`,\n",
    "LAST_NAME AS `Enrollee Last Name -- Actual Length(50)`,\n",
    "CONTRACT_ID AS `Contract Id -- Actual Length(5)`,\n",
    "DATE_FORWARDED_TO_IRE AS `Date Forwarded To IRE -- Actual Length(10)`, \n",
    "SOURCE_INDICATOR AS `Source Indicator -- Actual Length(25)`,\n",
    "DATE_FORMAT(current_timestamp(),'MM/dd/yyyy HH:mm:ss a') AS `Action_Timestamp`,\n",
    "'{file_name_value}' AS `File Name`\n",
    "FROM odag.bronze.CMS_AUDIT_INPUT_STG\n",
    "WHERE\n",
    "LENGTH(TRIM(FIRST_NAME)) > 50\n",
    "OR LENGTH(TRIM(LAST_NAME)) > 50\n",
    "OR LENGTH(TRIM(CONTRACT_ID)) > 5\n",
    "OR LENGTH(TRIM(DATE_FORWARDED_TO_IRE)) > 10\n",
    "OR LENGTH(TRIM(SOURCE_INDICATOR)) > 25;\n",
    "\"\"\");\n",
    "display(trunc_report)"
   ]
  },
  {
   "cell_type": "code",
   "execution_count": 0,
   "metadata": {
    "application/vnd.databricks.v1+cell": {
     "cellMetadata": {
      "byteLimit": 2048000,
      "rowLimit": 10000
     },
     "inputWidgets": {},
     "nuid": "08cf0760-736f-485e-94cc-d403361448dc",
     "showTitle": false,
     "tableResultSettingsMap": {},
     "title": ""
    }
   },
   "outputs": [],
   "source": [
    "trunc_report.write\\\n",
    "    .mode(\"overwrite\")\\\n",
    "    .option(\"header\",\"true\")\\\n",
    "    .csv(\"abfs://aggregated-files@databricksdl7.dfs.core.windows.net/CMS_AUDIT_TRUNCATION_REPORT\")\n",
    "\n",
    "display(spark.read\\\n",
    "    .option(\"header\",\"true\")\\\n",
    "    .csv(\"abfs://aggregated-files@databricksdl7.dfs.core.windows.net/CMS_AUDIT_TRUNCATION_REPORT\"))"
   ]
  }
 ],
 "metadata": {
  "application/vnd.databricks.v1+notebook": {
   "computePreferences": null,
   "dashboards": [],
   "environmentMetadata": {
    "base_environment": "",
    "environment_version": "2"
   },
   "language": "python",
   "notebookMetadata": {
    "mostRecentlyExecutedCommandWithImplicitDF": {
     "commandId": 2293007926580920,
     "dataframes": [
      "_sqldf"
     ]
    },
    "pythonIndentUnit": 4
   },
   "notebookName": "Truncation Report",
   "widgets": {}
  },
  "language_info": {
   "name": "python"
  }
 },
 "nbformat": 4,
 "nbformat_minor": 0
}
