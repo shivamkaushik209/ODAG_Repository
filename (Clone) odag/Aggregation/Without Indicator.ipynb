{
 "cells": [
  {
   "cell_type": "code",
   "execution_count": 0,
   "metadata": {
    "application/vnd.databricks.v1+cell": {
     "cellMetadata": {
      "byteLimit": 2048000,
      "implicitDf": true,
      "rowLimit": 10000
     },
     "inputWidgets": {},
     "nuid": "5d221d9d-4cf8-4b9d-b4cd-e1a11e12a736",
     "showTitle": false,
     "tableResultSettingsMap": {},
     "title": ""
    }
   },
   "outputs": [],
   "source": [
    "%sql\n",
    "SELECT * FROM odag.bronze.CMS_AUDIT_INPUT_STG;"
   ]
  },
  {
   "cell_type": "code",
   "execution_count": 0,
   "metadata": {
    "application/vnd.databricks.v1+cell": {
     "cellMetadata": {
      "byteLimit": 2048000,
      "implicitDf": true,
      "rowLimit": 10000
     },
     "inputWidgets": {},
     "nuid": "003f0d0e-c581-4835-b576-22f142249c18",
     "showTitle": false,
     "tableResultSettingsMap": {},
     "title": ""
    }
   },
   "outputs": [],
   "source": [
    "df_without_indicator = spark.sql(\"\"\"\n",
    "SELECT \n",
    "CASE \n",
    "  WHEN FIRST_NAME IS NULL OR trim(FIRST_NAME) = '' THEN 'NA' \n",
    "  ELSE substr(FIRST_NAME,1,50) \n",
    "  END\n",
    "  AS `Enrollee First Name`,\n",
    "CASE \n",
    "  WHEN LAST_NAME IS NULL OR trim(LAST_NAME) = '' THEN 'NA'\n",
    "  ELSE substr(LAST_NAME, 1, 50)\n",
    "  END AS `Enrollee Last Name`,\n",
    "CASE\n",
    "   WHEN CONTRACT_ID IS NULL OR trim(CONTRACT_ID) = '' THEN 'NA'\n",
    "   ELSE substr(CONTRACT_ID, 1, 25)\n",
    "   END AS `CONTRACT ID`,\n",
    "CASE \n",
    "  WHEN DATE_FORWARDED_TO_IRE IS NULL OR trim(DATE_FORWARDED_TO_IRE) = '' THEN 'NA' \n",
    "  ELSE substr(DATE_FORWARDED_TO_IRE, 1, 10)\n",
    "  END AS `Date Forwarded To IRE`\n",
    "FROM odag.bronze.CMS_AUDIT_INPUT_STG;\n",
    "\"\"\")\n",
    "display(df_without_indicator)"
   ]
  },
  {
   "cell_type": "code",
   "execution_count": 0,
   "metadata": {
    "application/vnd.databricks.v1+cell": {
     "cellMetadata": {
      "byteLimit": 2048000,
      "rowLimit": 10000
     },
     "inputWidgets": {},
     "nuid": "08cf0760-736f-485e-94cc-d403361448dc",
     "showTitle": false,
     "tableResultSettingsMap": {},
     "title": ""
    }
   },
   "outputs": [],
   "source": [
    "df_without_indicator.write\\\n",
    "    .mode(\"overwrite\")\\\n",
    "    .option(\"header\",\"true\")\\\n",
    "    .csv(\"abfs://aggregated-files@databricksdl7.dfs.core.windows.net/CMS_AUDIT_WITHOUT_INDICATOR\")\n",
    "\n",
    "display(spark.read\\\n",
    "    .option(\"header\",\"true\")\\\n",
    "    .csv(\"abfs://aggregated-files@databricksdl7.dfs.core.windows.net/CMS_AUDIT_WITHOUT_INDICATOR\"))"
   ]
  }
 ],
 "metadata": {
  "application/vnd.databricks.v1+notebook": {
   "computePreferences": null,
   "dashboards": [],
   "environmentMetadata": {
    "base_environment": "",
    "environment_version": "2"
   },
   "language": "python",
   "notebookMetadata": {
    "mostRecentlyExecutedCommandWithImplicitDF": {
     "commandId": 2293007926580910,
     "dataframes": [
      "_sqldf"
     ]
    },
    "pythonIndentUnit": 4
   },
   "notebookName": "Without Indicator",
   "widgets": {}
  },
  "language_info": {
   "name": "python"
  }
 },
 "nbformat": 4,
 "nbformat_minor": 0
}
