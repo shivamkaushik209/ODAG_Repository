{
 "cells": [
  {
   "cell_type": "code",
   "execution_count": 0,
   "metadata": {
    "application/vnd.databricks.v1+cell": {
     "cellMetadata": {
      "byteLimit": 2048000,
      "implicitDf": true,
      "rowLimit": 10000
     },
     "inputWidgets": {},
     "nuid": "5d221d9d-4cf8-4b9d-b4cd-e1a11e12a736",
     "showTitle": false,
     "tableResultSettingsMap": {},
     "title": ""
    }
   },
   "outputs": [],
   "source": [
    "%sql\n",
    "SELECT * FROM odag.bronze.CMS_AUDIT_INPUT_STG;"
   ]
  },
  {
   "cell_type": "code",
   "execution_count": 0,
   "metadata": {
    "application/vnd.databricks.v1+cell": {
     "cellMetadata": {
      "byteLimit": 2048000,
      "implicitDf": true,
      "rowLimit": 10000
     },
     "inputWidgets": {},
     "nuid": "003f0d0e-c581-4835-b576-22f142249c18",
     "showTitle": false,
     "tableResultSettingsMap": {},
     "title": ""
    }
   },
   "outputs": [],
   "source": [
    "%sql\n",
    "SELECT\n",
    "  FIRST_NAME AS `Enrollee First Name`,\n",
    "  LAST_NAME AS `Enrollee Last Name`,\n",
    "  CONTRACT_ID AS `CONTRACT ID`,\n",
    "  DATE_FORWARDED_TO_IRE AS `Date Forwarded To IRE`, \n",
    "  SOURCE_INDICATOR AS `Source Indicator`,\n",
    "  CASE\n",
    "    WHEN FIRST_NAME IS NULL OR TRIM(FIRST_NAME) = '' THEN 'FIRST_NAME|' ELSE ''\n",
    "  END ||\n",
    "  CASE\n",
    "    WHEN LAST_NAME IS NULL OR TRIM(LAST_NAME) = '' THEN 'LAST_NAME|' ELSE ''\n",
    "  END ||\n",
    "  CASE\n",
    "    WHEN CONTRACT_ID IS NULL OR TRIM(CONTRACT_ID) = '' THEN 'CONTRACT_ID|' ELSE ''\n",
    "  END ||\n",
    "  CASE\n",
    "    WHEN DATE_FORWARDED_TO_IRE IS NULL OR TRIM(DATE_FORWARDED_TO_IRE) = '' THEN 'DATE_FORWARDED_TO_IRE|' ELSE ''\n",
    "  END ||\n",
    "  CASE\n",
    "    WHEN SOURCE_INDICATOR IS NULL OR TRIM(SOURCE_INDICATOR) = '' THEN 'SOURCE_INDICATOR|' ELSE ''\n",
    "  END\n",
    "  AS `NULL Fields Replaced By NA`\n",
    "FROM odag.bronze.CMS_AUDIT_INPUT_STG\n",
    "WHERE\n",
    "FIRST_NAME IS NULL OR TRIM(FIRST_NAME) = '' OR \n",
    "LAST_NAME IS NULL OR TRIM(LAST_NAME) = '' OR\n",
    "CONTRACT_ID IS NULL OR TRIM(CONTRACT_ID) = '' OR\n",
    "DATE_FORWARDED_TO_IRE IS NULL OR TRIM(DATE_FORWARDED_TO_IRE) = '' OR\n",
    "SOURCE_INDICATOR IS NULL OR TRIM(SOURCE_INDICATOR) = ''"
   ]
  },
  {
   "cell_type": "code",
   "execution_count": 0,
   "metadata": {
    "application/vnd.databricks.v1+cell": {
     "cellMetadata": {
      "byteLimit": 2048000,
      "rowLimit": 10000
     },
     "inputWidgets": {},
     "nuid": "08cf0760-736f-485e-94cc-d403361448dc",
     "showTitle": false,
     "tableResultSettingsMap": {},
     "title": ""
    }
   },
   "outputs": [],
   "source": [
    "df_null.write\\\n",
    "    .mode(\"overwrite\")\\\n",
    "    .option(\"header\",\"true\")\\\n",
    "    .csv(\"abfs://aggregated-files@databricksdl7.dfs.core.windows.net/CMS_AUDIT_NULL_REPORT\")\n",
    "\n",
    "display(spark.read\\\n",
    "    .option(\"header\",\"true\")\\\n",
    "    .csv(\"abfs://aggregated-files@databricksdl7.dfs.core.windows.net/CMS_AUDIT_NULL_REPORT\"))"
   ]
  },
  {
   "cell_type": "markdown",
   "metadata": {
    "application/vnd.databricks.v1+cell": {
     "cellMetadata": {},
     "inputWidgets": {},
     "nuid": "7039f94a-f013-4575-b4dc-4e54a24a943f",
     "showTitle": false,
     "tableResultSettingsMap": {},
     "title": ""
    }
   },
   "source": []
  }
 ],
 "metadata": {
  "application/vnd.databricks.v1+notebook": {
   "computePreferences": null,
   "dashboards": [],
   "environmentMetadata": {
    "base_environment": "",
    "environment_version": "2"
   },
   "language": "python",
   "notebookMetadata": {
    "mostRecentlyExecutedCommandWithImplicitDF": {
     "commandId": 2293007926580916,
     "dataframes": [
      "_sqldf"
     ]
    },
    "pythonIndentUnit": 4
   },
   "notebookName": "Null Report",
   "widgets": {}
  },
  "language_info": {
   "name": "python"
  }
 },
 "nbformat": 4,
 "nbformat_minor": 0
}
