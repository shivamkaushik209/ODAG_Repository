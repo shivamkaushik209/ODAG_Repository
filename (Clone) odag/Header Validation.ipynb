{
 "cells": [
  {
   "cell_type": "markdown",
   "metadata": {
    "application/vnd.databricks.v1+cell": {
     "cellMetadata": {
      "byteLimit": 2048000,
      "rowLimit": 10000
     },
     "inputWidgets": {},
     "nuid": "bf36103f-5206-46e7-a435-c9ed266125cb",
     "showTitle": false,
     "tableResultSettingsMap": {},
     "title": ""
    }
   },
   "source": [
    "There are no layers here\n",
    "We are just creating a complete file here."
   ]
  },
  {
   "cell_type": "code",
   "execution_count": 0,
   "metadata": {
    "application/vnd.databricks.v1+cell": {
     "cellMetadata": {
      "byteLimit": 2048000,
      "rowLimit": 10000
     },
     "inputWidgets": {},
     "nuid": "77bc6c55-2355-4519-8863-353b760fd9b0",
     "showTitle": false,
     "tableResultSettingsMap": {},
     "title": ""
    }
   },
   "outputs": [],
   "source": [
    "input_df = spark.read \\\n",
    "    .option(\"header\",True) \\\n",
    "    .option(\"delimiter\",\"\\t\") \\\n",
    "    .csv('abfss://input-file@databricksdl7.dfs.core.windows.net/odag_input_file.txt')\n",
    "\n",
    "display(input_df)\n",
    "#input_df.printSchema()"
   ]
  },
  {
   "cell_type": "code",
   "execution_count": 0,
   "metadata": {
    "application/vnd.databricks.v1+cell": {
     "cellMetadata": {
      "byteLimit": 2048000,
      "rowLimit": 10000
     },
     "inputWidgets": {},
     "nuid": "a648517f-9a4c-4c0f-b15e-37d39f90124b",
     "showTitle": false,
     "tableResultSettingsMap": {},
     "title": ""
    }
   },
   "outputs": [],
   "source": [
    "#Count Headers\n",
    "number_of_columns = len(input_df.columns)\n",
    "#display(number_of_columns)"
   ]
  },
  {
   "cell_type": "code",
   "execution_count": 0,
   "metadata": {
    "application/vnd.databricks.v1+cell": {
     "cellMetadata": {
      "byteLimit": 2048000,
      "implicitDf": true,
      "rowLimit": 10000
     },
     "inputWidgets": {},
     "nuid": "6f2a3da5-30f4-489a-baa6-91b16fdec9ce",
     "showTitle": false,
     "tableResultSettingsMap": {},
     "title": ""
    }
   },
   "outputs": [],
   "source": [
    "request_id = spark.sql(\"SELECT Request_ID FROM global_temp.status_tracker_gtv\")\n",
    "request_id_value = request_id.collect()[0]['Request_ID']"
   ]
  },
  {
   "cell_type": "code",
   "execution_count": 0,
   "metadata": {
    "application/vnd.databricks.v1+cell": {
     "cellMetadata": {
      "byteLimit": 2048000,
      "rowLimit": 10000
     },
     "inputWidgets": {},
     "nuid": "bd591f9b-0ee4-4783-953d-8742d2a3a09e",
     "showTitle": false,
     "tableResultSettingsMap": {},
     "title": ""
    }
   },
   "outputs": [],
   "source": [
    "update_query = f\"\"\"\n",
    "    UPDATE odag.gold.CMS_AUDIT_APP_STATUS_TRACKER\n",
    "    SET COMMENTS = 'Check input file header for count mismatch '\n",
    "    WHERE REQUEST_ID = '{request_id_value}';\n",
    "\"\"\"\n",
    "#spark.sql(update_query)"
   ]
  },
  {
   "cell_type": "code",
   "execution_count": 0,
   "metadata": {
    "application/vnd.databricks.v1+cell": {
     "cellMetadata": {
      "byteLimit": 2048000,
      "rowLimit": 10000
     },
     "inputWidgets": {},
     "nuid": "f9e8abf6-c150-427a-b687-56627b7af157",
     "showTitle": false,
     "tableResultSettingsMap": {},
     "title": ""
    }
   },
   "outputs": [],
   "source": [
    "if number_of_columns != 5:\n",
    "        spark.sql(update_query)\n",
    "        raise ValueError(f\"Column count mismatch: {number_of_columns} columns detected, expected 5.\")\n",
    "else:\n",
    "        print(\"Column count is correct. No action needed.\")"
   ]
  }
 ],
 "metadata": {
  "application/vnd.databricks.v1+notebook": {
   "computePreferences": null,
   "dashboards": [],
   "environmentMetadata": {
    "base_environment": "",
    "environment_version": "2"
   },
   "language": "python",
   "notebookMetadata": {
    "mostRecentlyExecutedCommandWithImplicitDF": {
     "commandId": 7129553848042927,
     "dataframes": [
      "_sqldf"
     ]
    },
    "pythonIndentUnit": 4
   },
   "notebookName": "Header Validation",
   "widgets": {}
  },
  "language_info": {
   "name": "python"
  }
 },
 "nbformat": 4,
 "nbformat_minor": 0
}
